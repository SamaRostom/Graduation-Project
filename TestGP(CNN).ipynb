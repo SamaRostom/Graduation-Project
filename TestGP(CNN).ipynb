{
  "cells": [
    {
      "cell_type": "code",
      "execution_count": 2,
      "metadata": {
        "colab": {
          "base_uri": "https://localhost:8080/"
        },
        "id": "zl_4ADUTMu_b",
        "outputId": "cddce638-a316-4e2c-e45b-259ef9a81d3f"
      },
      "outputs": [
        {
          "name": "stdout",
          "output_type": "stream",
          "text": [
            "Drive already mounted at /content/gdrive; to attempt to forcibly remount, call drive.mount(\"/content/gdrive\", force_remount=True).\n"
          ]
        }
      ],
      "source": [
        "from google.colab import drive\n",
        "drive.mount('/content/gdrive')"
      ]
    },
    {
      "cell_type": "code",
      "execution_count": 3,
      "metadata": {
        "id": "dxL9IXf97HJb"
      },
      "outputs": [],
      "source": [
        "import numpy as np\n",
        "import os\n",
        "from sklearn.preprocessing import LabelEncoder\n",
        "import cv2\n",
        "import matplotlib.pyplot as plt\n",
        "import seaborn as sns\n",
        "from tensorflow.keras.layers import Dense, Conv2D, Flatten, Dropout, MaxPooling2D\n",
        "from tensorflow.keras.optimizers import Adam\n",
        "from tensorflow.keras.models import Sequential\n",
        "from sklearn.model_selection import train_test_split\n",
        "from tensorflow.keras.callbacks import ReduceLROnPlateau,EarlyStopping\n",
        "from tensorflow.keras.applications import Xception"
      ]
    },
    {
      "cell_type": "code",
      "execution_count": 4,
      "metadata": {
        "id": "EyVGik4mMuL1"
      },
      "outputs": [],
      "source": [
        "# train_path=\"/content/gdrive/My Drive/DataSet/Cleftlip/Train/\"\n",
        "# test_path=\"/content/gdrive/My Drive/DataSet/Cleftlip/Train/\"\n",
        "# val_path=\"rps-final-dataset/val\"\n",
        "\n",
        "ben = os.listdir('/content/gdrive/My Drive/DATASET/Train/Cleftlip')\n",
        "mal = os.listdir('/content/gdrive/My Drive/DATASET/Train/NonCleftlip')\n",
        "# Let benign be 0 and malignant be 1\n",
        "train = []\n",
        "train_y = []\n",
        "# trainc=[]\n",
        "# trainnc=[]\n",
        "for i in ben:\n",
        "    x = '/content/gdrive/My Drive/DATASET/Train/Cleftlip/' + i\n",
        "    img = cv2.cvtColor(cv2.imread(x), cv2.COLOR_BGR2RGB)\n",
        "    img = cv2.resize(img,(200,200))\n",
        "    img = img/255 # normalising \n",
        "    train.append(img.flatten())\n",
        "    # trainc.append(0)\n",
        "    train_y.append(0)\n",
        "for i in mal:\n",
        "    x = '/content/gdrive/My Drive/DATASET/Train/NonCleftlip/' + i\n",
        "    img = cv2.imread(x)\n",
        "    img = cv2.cvtColor(img, cv2.COLOR_BGR2RGB)\n",
        "    img = cv2.resize(img,(200,200))\n",
        "    img = img/255 # normalising \n",
        "    train.append(img.flatten())\n",
        "    # trainnc.append(1)\n",
        "    train_y.append(1)\n",
        "train = np.array(train)"
      ]
    },
    {
      "cell_type": "code",
      "execution_count": 5,
      "metadata": {
        "colab": {
          "base_uri": "https://localhost:8080/",
          "height": 283
        },
        "id": "zc-u1b2Jjg9L",
        "outputId": "584a1e43-69be-4636-d157-ca3893e5af85"
      },
      "outputs": [
        {
          "data": {
            "text/plain": [
              "(array([22., 17.]), array([0. , 0.5, 1. ]), <a list of 2 Patch objects>)"
            ]
          },
          "execution_count": 5,
          "metadata": {},
          "output_type": "execute_result"
        },
        {
          "data": {
            "image/png": "[encoded data removed]",
            "text/plain": [
              "<Figure size 432x288 with 1 Axes>"
            ]
          },
          "metadata": {
            "needs_background": "light"
          },
          "output_type": "display_data"
        }
      ],
      "source": [
        "\n",
        "plt.hist(train_y, bins=2, edgecolor='black')\n",
        "\n",
        "# print(train_y[0].value_counts())\n",
        "# sns.countplot(train_y[0])\n",
        "# plt.title(\"Class Counts\")\n",
        "# plt.show()\n",
        "\n",
        "# tick_label = ['one', 'two']\n",
        "# plt.bar(train_y, tick_label = tick_label,\n",
        "#         width = 0.8, color = ['red', 'green'])\n",
        "  \n",
        "# # naming the x-axis\n",
        "# plt.xlabel('x - axis')\n",
        "# # naming the y-axis\n",
        "# plt.ylabel('y - axis')\n",
        "# # plot title\n",
        "# plt.title('My bar chart!')\n",
        "  \n",
        "# # function to show the plot\n",
        "# plt.show()"
      ]
    },
    {
      "cell_type": "code",
      "execution_count": 6,
      "metadata": {
        "colab": {
          "base_uri": "https://localhost:8080/"
        },
        "id": "_Vjm2Qgygs51",
        "outputId": "c6104679-8cae-47cf-c021-e0c8d3c9d139"
      },
      "outputs": [
        {
          "name": "stdout",
          "output_type": "stream",
          "text": [
            "training rows 31\n",
            "validation rows 8\n"
          ]
        }
      ],
      "source": [
        "train,val,train_y,val_y = train_test_split(train,train_y,test_size=0.2,random_state=44)\n",
        "train = train.reshape(train.shape[0],200,200,3)\n",
        "val = val.reshape(val.shape[0],200,200,3)\n",
        "encoder = LabelEncoder()\n",
        "encoder = encoder.fit(train_y)\n",
        "train_y = encoder.transform(train_y)\n",
        "encoder = encoder.fit(val_y)\n",
        "val_y = encoder.transform(val_y)\n",
        "print(str('training rows ' + str(len(train))))\n",
        "print(str('validation rows ' + str(len(val))))"
      ]
    },
    {
      "cell_type": "code",
      "execution_count": 7,
      "metadata": {
        "colab": {
          "base_uri": "https://localhost:8080/"
        },
        "id": "XAyjkhwQgxBm",
        "outputId": "7ab82839-a609-48c6-c276-c30aacb6bd31"
      },
      "outputs": [
        {
          "name": "stdout",
          "output_type": "stream",
          "text": [
            "Downloading data from https://storage.googleapis.com/tensorflow/keras-applications/xception/xception_weights_tf_dim_ordering_tf_kernels_notop.h5\n",
            "83683744/83683744 [==============================] - 2s 0us/step\n",
            "Model: \"sequential\"\n",
            "_________________________________________________________________\n",
            " Layer (type)                Output Shape              Param #   \n",
            "=================================================================\n",
            " xception (Functional)       (None, 2048)              20861480  \n",
            "                                                                 \n",
            " dropout (Dropout)           (None, 2048)              0         \n",
            "                                                                 \n",
            " flatten (Flatten)           (None, 2048)              0         \n",
            "                                                                 \n",
            " dense (Dense)               (None, 64)                131136    \n",
            "                                                                 \n",
            " dropout_1 (Dropout)         (None, 64)                0         \n",
            "                                                                 \n",
            " dense_1 (Dense)             (None, 1)                 65        \n",
            "                                                                 \n",
            "=================================================================\n",
            "Total params: 20,992,681\n",
            "Trainable params: 20,938,153\n",
            "Non-trainable params: 54,528\n",
            "_________________________________________________________________\n"
          ]
        }
      ],
      "source": [
        "#buliding CNN\n",
        "model = Sequential()\n",
        "base = Xception(include_top=False, weights=\"imagenet\", input_shape=(200,200,3), pooling='avg')\n",
        "for lay in base.layers: lay.trainable = True # false for transfer learning\n",
        "model.add(base)\n",
        "model.add(Dropout(0.8))\n",
        "model.add(Flatten())\n",
        "model.add(Dense(64,'relu'))\n",
        "model.add(Dropout(0.6))\n",
        "model.add(Dense(1,'sigmoid'))\n",
        "model.compile(Adam(0.0001),'binary_crossentropy',['accuracy'])\n",
        "model.summary()"
      ]
    },
    {
      "cell_type": "code",
      "execution_count": 8,
      "metadata": {
        "id": "kf6gFPYdhPBY"
      },
      "outputs": [],
      "source": [
        "reduce_lr = ReduceLROnPlateau(monitor='val_loss', patience=2, verbose=2, factor=0.3, min_lr=0.000001)\n",
        "early_stop = EarlyStopping(patience=4,restore_best_weights=True)"
      ]
    },
    {
      "cell_type": "code",
      "execution_count": 13,
      "metadata": {
        "colab": {
          "base_uri": "https://localhost:8080/"
        },
        "id": "5NPPm2sohQo_",
        "outputId": "fa653f71-3258-496c-9a85-1efba9dc1e9a"
      },
      "outputs": [
        {
          "name": "stdout",
          "output_type": "stream",
          "text": [
            "Epoch 1/10\n",
            "4/4 - 25s - loss: 0.4790 - accuracy: 0.8065 - val_loss: 0.6963 - val_accuracy: 0.6250 - 25s/epoch - 6s/step\n",
            "Epoch 2/10\n",
            "4/4 - 25s - loss: 0.4257 - accuracy: 0.8387 - val_loss: 0.7004 - val_accuracy: 0.6250 - 25s/epoch - 6s/step\n",
            "Epoch 3/10\n",
            "4/4 - 25s - loss: 0.6752 - accuracy: 0.5161 - val_loss: 0.7077 - val_accuracy: 0.6250 - 25s/epoch - 6s/step\n",
            "Epoch 4/10\n",
            "4/4 - 25s - loss: 0.5110 - accuracy: 0.8710 - val_loss: 0.7124 - val_accuracy: 0.6250 - 25s/epoch - 6s/step\n",
            "Epoch 5/10\n",
            "4/4 - 24s - loss: 0.4155 - accuracy: 0.8710 - val_loss: 0.7146 - val_accuracy: 0.6250 - 24s/epoch - 6s/step\n",
            "Epoch 6/10\n",
            "4/4 - 25s - loss: 0.4847 - accuracy: 0.7742 - val_loss: 0.7173 - val_accuracy: 0.7500 - 25s/epoch - 6s/step\n",
            "Epoch 7/10\n",
            "4/4 - 24s - loss: 0.3920 - accuracy: 0.9032 - val_loss: 0.7165 - val_accuracy: 0.5000 - 24s/epoch - 6s/step\n",
            "Epoch 8/10\n",
            "4/4 - 24s - loss: 0.5160 - accuracy: 0.7742 - val_loss: 0.7200 - val_accuracy: 0.5000 - 24s/epoch - 6s/step\n",
            "Epoch 9/10\n",
            "4/4 - 24s - loss: 0.4556 - accuracy: 0.8387 - val_loss: 0.7205 - val_accuracy: 0.5000 - 24s/epoch - 6s/step\n",
            "Epoch 10/10\n",
            "4/4 - 24s - loss: 0.2781 - accuracy: 0.9355 - val_loss: 0.7234 - val_accuracy: 0.5000 - 24s/epoch - 6s/step\n"
          ]
        },
        {
          "data": {
            "text/plain": [
              "<keras.callbacks.History at 0x7fc2015662d0>"
            ]
          },
          "execution_count": 13,
          "metadata": {},
          "output_type": "execute_result"
        }
      ],
      "source": [
        "# model.fit(train,train_y,epochs=10,batch_size=10,validation_data=(val,val_y),verbose=2,callbacks=[early_stop,reduce_lr])\n",
        "model.fit(train,train_y,epochs=10,batch_size=10,validation_data=(val,val_y),verbose=2)"
      ]
    },
    {
      "cell_type": "code",
      "execution_count": 14,
      "metadata": {
        "colab": {
          "base_uri": "https://localhost:8080/"
        },
        "id": "OfZx6EPBhUvG",
        "outputId": "84e235f1-d7a4-417f-9c8d-d6a8327ae2ae"
      },
      "outputs": [
        {
          "name": "stdout",
          "output_type": "stream",
          "text": [
            "1/1 - 4s - loss: 0.5281 - accuracy: 0.8235 - 4s/epoch - 4s/step\n",
            "Accuracy on test data: 82.35294222831726\n",
            "Loss on test data: 0.5280996561050415\n"
          ]
        }
      ],
      "source": [
        "ben = os.listdir('/content/gdrive/My Drive/DATASET/Test/Cleftlip')\n",
        "mal = os.listdir('/content/gdrive/My Drive/DATASET/Test/NonCleftlip')\n",
        "test = []\n",
        "test_y = []\n",
        "# testc=[]\n",
        "# testnc=[]\n",
        "for i in ben:\n",
        "    x = '/content/gdrive/My Drive/DATASET/Test/Cleftlip/' + i\n",
        "    img = cv2.imread(x)\n",
        "    img = cv2.cvtColor(img, cv2.COLOR_BGR2RGB)\n",
        "    img = cv2.resize(img,(200,200))\n",
        "    img = img/255 # normalising \n",
        "    test.append(img)\n",
        "    # testc.append(0)\n",
        "    test_y.append(0)\n",
        "for i in mal:\n",
        "    x = '/content/gdrive/My Drive/DATASET/Test/NonCleftlip/' + i\n",
        "    img = cv2.imread(x)\n",
        "    img = cv2.cvtColor(img, cv2.COLOR_BGR2RGB)\n",
        "    img = cv2.resize(img,(200,200))\n",
        "    img = img/255 # normalising \n",
        "    test.append(img)\n",
        "    # testnc.append(1)\n",
        "    test_y.append(1)\n",
        "test = np.array(test)\n",
        "encoder = LabelEncoder()\n",
        "c = encoder.fit(test_y)\n",
        "test_y = encoder.transform(test_y)\n",
        "loss,acc = model.evaluate(test, test_y,verbose=2)\n",
        "print('Accuracy on test data: '+ str(acc*100))\n",
        "print('Loss on test data: ' + str(loss))"
      ]
    },
    {
      "cell_type": "code",
      "execution_count": 11,
      "metadata": {
        "id": "7VoFdt1p8C6n"
      },
      "outputs": [],
      "source": [
        "# from sklearn.metrics import plot_confusion_matrix\n",
        "# from sklearn.metrics import classification_report\n",
        "# # disp = plot_confusion_matrix(clf, test, test_y, display_labels=['ROCK','MINE'], cmap=plt.cm.Blues)\n",
        "# # disp.ax_.set_title('Confusion matrix of '+ n)\n",
        "    \n",
        "# # y_pred = encoder.predict(test)\n",
        "# q=encoder.fit_transform(test_y)\n",
        "# cr = classification_report(test_y, q)\n",
        "# print(\"\\n\\nClassification Report\\n\")\n",
        "# print(cr)\n",
        "# print(\"---\")"
      ]
    },
    {
      "cell_type": "code",
      "execution_count": 12,
      "metadata": {
        "id": "nJz_vyMBpt91"
      },
      "outputs": [],
      "source": [
        "# clf_names = []\n",
        "# train_scores = []\n",
        "# test_scores = []\n",
        "# clf_names.append(n)\n",
        "\n",
        "\n",
        "# clf.fit(X_train, y_train)\n",
        "# train_scores.append(clf.score(X_train, y_train))\n",
        "# test_scores.append(clf.score(X_test, y_test))\n",
        "\n",
        "# print(\"Accuracy of \",n,\":\",clf.score(X_test, y_test))\n",
        "\n",
        "# y_pred = clf.predict(testc)\n",
        "# from sklearn.metrics import plot_confusion_matrix    \n",
        "# disp = plot_confusion_matrix('CNN', testc, testnc, display_labels=['ROCK','MINE'], cmap=plt.cm.Blues)\n",
        "# disp.ax_.set_title('Confusion matrix of CNN')\n",
        "    \n",
        "\n",
        "# cr = classification_report(testc, y_pred)\n",
        "# print(\"\\n\\nClassification Report\\n\")\n",
        "# print(cr)\n",
        "# print(\"---\")"
      ]
    }
  ],
  "metadata": {
    "colab": {
      "provenance": []
    },
    "kernelspec": {
      "display_name": "Python 3",
      "name": "python3"
    },
    "language_info": {
      "name": "python"
    }
  },
  "nbformat": 4,
  "nbformat_minor": 0
}
